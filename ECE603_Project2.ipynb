{
  "nbformat": 4,
  "nbformat_minor": 0,
  "metadata": {
    "colab": {
      "provenance": [],
      "authorship_tag": "ABX9TyMMiPf+nPnlbFt+ivSVJwe7",
      "include_colab_link": true
    },
    "kernelspec": {
      "name": "python3",
      "display_name": "Python 3"
    },
    "language_info": {
      "name": "python"
    }
  },
  "cells": [
    {
      "cell_type": "markdown",
      "metadata": {
        "id": "view-in-github",
        "colab_type": "text"
      },
      "source": [
        "<a href=\"https://colab.research.google.com/github/mzambetti01/Bayesian-Netowrk/blob/main/ECE603_Project2.ipynb\" target=\"_parent\"><img src=\"https://colab.research.google.com/assets/colab-badge.svg\" alt=\"Open In Colab\"/></a>"
      ]
    },
    {
      "cell_type": "markdown",
      "source": [
        "# This is my code for ECE 603: Project 2 - Spam Filter\n",
        "\n",
        "## Naive Bayesian Network\n",
        "\n",
        "Matt Zambetti\n",
        "\n",
        "10/10/22\n",
        "\n",
        "Done in Google Colab (Python)\n",
        "\n",
        "In this code I have made a simple Bayesian Network that identifies whether an email is spam or not based on the words it contains."
      ],
      "metadata": {
        "id": "-66PRrCC2Tzn"
      }
    },
    {
      "cell_type": "code",
      "source": [
        "# Import Section\n",
        "# Importing matfiles was done using: https://towardsdatascience.com/how-to-load-matlab-mat-files-in-python-1f200e1287b5\n",
        "from scipy.io import loadmat\n",
        "from google.colab import drive\n",
        "drive.mount('/content/drive')"
      ],
      "metadata": {
        "colab": {
          "base_uri": "https://localhost:8080/"
        },
        "id": "70ULRGkR2ivJ",
        "outputId": "5719e4f1-1fef-4ce5-f4cf-928e733c248a"
      },
      "execution_count": null,
      "outputs": [
        {
          "output_type": "stream",
          "name": "stdout",
          "text": [
            "Drive already mounted at /content/drive; to attempt to forcibly remount, call drive.mount(\"/content/drive\", force_remount=True).\n"
          ]
        }
      ]
    },
    {
      "cell_type": "code",
      "source": [
        "# Getting our data set up\n",
        "spamdata = loadmat('/content/drive/My Drive/spamdata.mat')\n",
        "X = spamdata['X']\n",
        "X2 = spamdata['X2']\n",
        "Y = spamdata['y']\n",
        "Y2 = spamdata['y2']\n",
        "# Our smoothing constant\n",
        "k=1"
      ],
      "metadata": {
        "id": "SyldblwE24yQ"
      },
      "execution_count": null,
      "outputs": []
    },
    {
      "cell_type": "markdown",
      "source": [
        "Here we are using 3 dictionaries.\n",
        "1. P_X is P(X), the probability distribution for each word. \n",
        "\n",
        "  Given X_i = [x_0, x_1, ... , x_n] \n",
        "\n",
        "  P(X) is the probability of x_i where 0 <= i <=n\n",
        "\n",
        "  To store this we are using a dictionary where the key value is the index and the value is its probability of being in an email or not.\n",
        "\n",
        "2. P_Y is P(Y), the probability of the email being spam or not.\n",
        "\n",
        "  To store this value we are not going to store the actual probability but rather the magnitude of each set. So, the first value is the number of emails that were not spam, the second is the number of emails that are spam, and the third is the total number of emails, both spam and not.\n",
        "\n",
        "3. P_XY is P(X|Y), the probability a word is in an email, given it spam or not.\n",
        "\n",
        "  This value is also using a dictionary, where the key is the index of the word and the value is a pair of numbers. The first being the probability of emails that were not spam and contained the word and the second being the probability of emails that were spam and contained the word."
      ],
      "metadata": {
        "id": "mrJmxqGxYlB8"
      }
    },
    {
      "cell_type": "code",
      "source": [
        "# Getting our P(X), P(Y), P(X|Y)\n",
        "P_X = dict()                      # P(X) = {x_index, prob}\n",
        "P_Y = [0, 0, len(Y)]              # P(Y) = [not, spam, total Y values]\n",
        "P_XY = dict()                     # P(X|Y) = {X, [Y=0, Y=1]}\n",
        "\n",
        "# Creating our dictionary to keep track of indices and their values of Y\n",
        "index_dict = dict()\n",
        "for idx in range(len(X[1])):\n",
        "  index_dict[idx] = [0,0]\n",
        "\n",
        "# Iterating over all values of X\n",
        "for idx in range(len(X)):\n",
        "  X_i = list(X[idx])\n",
        "  \n",
        "  # Keeping track of our y values\n",
        "  if Y[idx] == 1:\n",
        "    P_Y[1] +=1\n",
        "  else:\n",
        "    P_Y[0] +=1\n",
        "\n",
        "  # Going over each element of X\n",
        "  for x_idx in range(len(X_i)):\n",
        "    x = X_i[x_idx]\n",
        "    # If this word appears figure out whether its spam or not\n",
        "    if x == 1:\n",
        "      if Y[idx] == 1:\n",
        "        index_dict[x_idx][1] += 1\n",
        "      else:\n",
        "        index_dict[x_idx][0] += 1\n",
        "\n",
        "# Getting P(X) and P(X|Y)\n",
        "for key in index_dict.keys():\n",
        "  # Our P(X) = |spam and not| / |X|\n",
        "  P_X[key] = sum(index_dict[key]) / len(X);\n",
        "\n",
        "  # Getting our X|Y distr\n",
        "  # Also smoothing our data\n",
        "  # P(X|Y) = P(X & Y) + k / P(Y) + 2 * k\n",
        "  P_XY[key] = [(index_dict[key][0] + k) / (P_Y[0] + (2*k)), (index_dict[key][1] + k) / (P_Y[1] + (2 * k))];\n",
        "  \n"
      ],
      "metadata": {
        "id": "wnxlpB7PWHPY"
      },
      "execution_count": null,
      "outputs": []
    },
    {
      "cell_type": "markdown",
      "source": [
        "Here we will test our data.\n",
        "\n",
        "To calculate the probabilites of being spam or not we will use the Naive Bayesian idea.\n",
        "\n",
        "This means calculate P(X|Y=y1) = P(X=x_i|Y=y_1) x P(X=x_2|Y=y_1) x ... x P(X=x_m|Y=y_1)"
      ],
      "metadata": {
        "id": "s2jKud2ccF7p"
      }
    },
    {
      "cell_type": "code",
      "source": [
        "# Start our with defining some variables we will need throughout this section\n",
        "correct = 0\n",
        "\n",
        "# Going through our test values\n",
        "for idx in range(len(X2)):\n",
        "\n",
        "  # Grab the current entry we want to test\n",
        "  X_test = list(X2[idx])\n",
        "\n",
        "  # Let p_xy0 be P(X|Y=0)\n",
        "  p_xy0 = 1\n",
        "  # Let p_xy1 be P(X|Y=1)\n",
        "  p_xy1 = 1\n",
        "\n",
        "  # Iterating over each value in X_test\n",
        "  for x_idx in range(len(X_test)):\n",
        "    \n",
        "    x = X_test[x_idx]\n",
        "\n",
        "    # If the word is present in the email\n",
        "    if x == 1:\n",
        "      # Update the conditional probabilities\n",
        "      p_xy0 *= P_XY[x_idx][0]\n",
        "      p_xy1 *= P_XY[x_idx][1]\n",
        "  # Multiply by P(Y) to get the final probabilities\n",
        "  prob_spam = p_xy1 * (P_Y[1]/P_Y[2])\n",
        "  prob_not = p_xy0 * (P_Y[0]/P_Y[2])\n",
        "\n",
        "  # Now compare the two\n",
        "  if prob_spam > prob_not:\n",
        "    temp_y = 1\n",
        "  else:\n",
        "    temp_y = 0\n",
        "\n",
        "  # Checking to see if we have the correct value\n",
        "  if temp_y == Y2[idx][0]:\n",
        "    correct += 1\n",
        "\n",
        "# Printing our correctness\n",
        "print(correct/len(X2))"
      ],
      "metadata": {
        "colab": {
          "base_uri": "https://localhost:8080/"
        },
        "id": "u9htxq5PiqvU",
        "outputId": "cca231e5-c729-469f-d61f-1261cacb3b51"
      },
      "execution_count": null,
      "outputs": [
        {
          "output_type": "stream",
          "name": "stdout",
          "text": [
            "0.936\n"
          ]
        }
      ]
    }
  ]
}